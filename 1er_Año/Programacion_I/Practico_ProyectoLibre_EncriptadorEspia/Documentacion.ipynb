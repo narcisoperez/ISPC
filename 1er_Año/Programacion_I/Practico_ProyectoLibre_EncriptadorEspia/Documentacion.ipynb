{
 "cells": [
  {
   "cell_type": "markdown",
   "metadata": {},
   "source": [
    "<img src=\"/home/jose/Desktop/Jose/Portada.png\">"
   ]
  },
  {
   "cell_type": "markdown",
   "metadata": {},
   "source": [
    "# ProyectoLibre: EncriptadorEspia"
   ]
  },
  {
   "cell_type": "markdown",
   "metadata": {},
   "source": [
    "El proyecto libre se basa en un juego de espías, inspirado en la saga del agente secreto 007, en el cual se podrá encriptar y desencriptar mensajes secretos...\n"
   ]
  },
  {
   "cell_type": "markdown",
   "metadata": {},
   "source": [
    "Este encriptado se basa en el “Cifrado César”, el cual se cimenta en desplazamientos. Su funcionamiento es el siguiente:\n",
    "\n",
    "Se toma cada letra del mensaje de manera individual y se le asigna un valor numérico de acuerdo con su posición en el abecedario, por ejemplo: la letra “A” tendrá el valor uno, la “B” el dos y la”Z” sería el veintiséis. Posteriormente se suma a este valor, un número elegido por el usuario entre el 1 y el 26. Dicho número indica el desplazamiento, posteriormente se le asigna una letra a dicho valor quedando el mensaje encriptado. \n",
    "\n",
    "Para desencriptar un mensaje, el procedimiento es similar. Se toma el valor de la posición de la letra y se le resta en este caso el valor de cifrado utilizado para encriptar el mensaje, devolviendo de esta manera el valor original de la posición de la letra en cuestión.\n",
    " "
   ]
  },
  {
   "cell_type": "markdown",
   "metadata": {},
   "source": [
    "<img src=\"/home/jose/Desktop/Jose/tabla.png\"> "
   ]
  },
  {
   "cell_type": "markdown",
   "metadata": {},
   "source": [
    "Para el funcionamiento del código, se emplean las librerías time y os. Donde la primera es utilizada para las esperas entre los diferentes mensajes y las acciones a realizar por los usuarios, mientras que  la segunda nos permite que el código pueda interactuar con el sistema operativo."
   ]
  },
  {
   "cell_type": "markdown",
   "metadata": {},
   "source": [
    "Otra parte fundamental del código, son las funciones definidas. ya que gran parte del mismo está basado en ellas."
   ]
  },
  {
   "cell_type": "markdown",
   "metadata": {},
   "source": [
    "## Funcionamiento"
   ]
  },
  {
   "cell_type": "markdown",
   "metadata": {},
   "source": [
    "El funcionamiento del programa es sencillo. Al iniciar se solicitara ingresar Usuario y Contraseña, si estas coinciden con la establecida por defecto, se mostrará una secuencia de bienvenida en caso contrario, se imprimirá en pantalla un error de seguridad, activando la secuencia de autodestrucción de la consola.\n",
    "Una vez logueado el usuario, se pedirá que el agente ingrese qué acción desea realizar: “Encriptar” o “Desencriptar” un mensaje. Posteriormente y en ambos casos, la secuencia será la misma, se deberá ingresar el mensaje que se desee, acto seguido se deberá ingresar el código de cifrado, logrando así  la impresión por pantalla del mensaje encriptado o la desencriptación del mismo.  \n"
   ]
  },
  {
   "cell_type": "markdown",
   "metadata": {},
   "source": [
    "### Usuario: 007"
   ]
  },
  {
   "cell_type": "markdown",
   "metadata": {},
   "source": [
    "### Contraseña: bondJamesbond"
   ]
  }
 ],
 "metadata": {
  "kernelspec": {
   "display_name": "Python 3",
   "language": "python",
   "name": "python3"
  },
  "language_info": {
   "codemirror_mode": {
    "name": "ipython",
    "version": 3
   },
   "file_extension": ".py",
   "mimetype": "text/x-python",
   "name": "python",
   "nbconvert_exporter": "python",
   "pygments_lexer": "ipython3",
   "version": "3.8.5"
  }
 },
 "nbformat": 4,
 "nbformat_minor": 4
}
